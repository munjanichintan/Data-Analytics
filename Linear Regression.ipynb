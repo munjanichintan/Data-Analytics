{
 "cells": [
  {
   "cell_type": "code",
   "execution_count": 202,
   "metadata": {},
   "outputs": [],
   "source": [
    "# load required libraries.\n",
    "\n",
    "import pandas as pd\n",
    "import matplotlib.pyplot as plt\n",
    "%matplotlib inline\n",
    "from sklearn.linear_model import LinearRegression\n",
    "from sklearn.model_selection import train_test_split\n",
    "from sklearn import metrics\n",
    "import numpy as np\n",
    "from scipy.stats import zscore"
   ]
  },
  {
   "cell_type": "code",
   "execution_count": 203,
   "metadata": {
    "scrolled": true
   },
   "outputs": [
    {
     "data": {
      "text/html": [
       "<div>\n",
       "<style scoped>\n",
       "    .dataframe tbody tr th:only-of-type {\n",
       "        vertical-align: middle;\n",
       "    }\n",
       "\n",
       "    .dataframe tbody tr th {\n",
       "        vertical-align: top;\n",
       "    }\n",
       "\n",
       "    .dataframe thead th {\n",
       "        text-align: right;\n",
       "    }\n",
       "</style>\n",
       "<table border=\"1\" class=\"dataframe\">\n",
       "  <thead>\n",
       "    <tr style=\"text-align: right;\">\n",
       "      <th></th>\n",
       "      <th>Taxi_dist</th>\n",
       "      <th>Market_dist</th>\n",
       "      <th>Hospital_dist</th>\n",
       "      <th>Carpet_area</th>\n",
       "      <th>Builtup_area</th>\n",
       "      <th>Parking_type</th>\n",
       "      <th>City_type</th>\n",
       "      <th>Rainfall</th>\n",
       "      <th>Price_house</th>\n",
       "    </tr>\n",
       "  </thead>\n",
       "  <tbody>\n",
       "    <tr>\n",
       "      <th>0</th>\n",
       "      <td>9796.0</td>\n",
       "      <td>5250.0</td>\n",
       "      <td>10703.0</td>\n",
       "      <td>1659.0</td>\n",
       "      <td>1961.0</td>\n",
       "      <td>Open</td>\n",
       "      <td>CAT B</td>\n",
       "      <td>530</td>\n",
       "      <td>6649000</td>\n",
       "    </tr>\n",
       "    <tr>\n",
       "      <th>1</th>\n",
       "      <td>8294.0</td>\n",
       "      <td>8186.0</td>\n",
       "      <td>12694.0</td>\n",
       "      <td>1461.0</td>\n",
       "      <td>1752.0</td>\n",
       "      <td>Not Provided</td>\n",
       "      <td>CAT B</td>\n",
       "      <td>210</td>\n",
       "      <td>3982000</td>\n",
       "    </tr>\n",
       "    <tr>\n",
       "      <th>2</th>\n",
       "      <td>11001.0</td>\n",
       "      <td>14399.0</td>\n",
       "      <td>16991.0</td>\n",
       "      <td>1340.0</td>\n",
       "      <td>1609.0</td>\n",
       "      <td>Not Provided</td>\n",
       "      <td>CAT A</td>\n",
       "      <td>720</td>\n",
       "      <td>5401000</td>\n",
       "    </tr>\n",
       "    <tr>\n",
       "      <th>3</th>\n",
       "      <td>8301.0</td>\n",
       "      <td>11188.0</td>\n",
       "      <td>12289.0</td>\n",
       "      <td>1451.0</td>\n",
       "      <td>1748.0</td>\n",
       "      <td>Covered</td>\n",
       "      <td>CAT B</td>\n",
       "      <td>620</td>\n",
       "      <td>5373000</td>\n",
       "    </tr>\n",
       "    <tr>\n",
       "      <th>4</th>\n",
       "      <td>10510.0</td>\n",
       "      <td>12629.0</td>\n",
       "      <td>13921.0</td>\n",
       "      <td>1770.0</td>\n",
       "      <td>2111.0</td>\n",
       "      <td>Not Provided</td>\n",
       "      <td>CAT B</td>\n",
       "      <td>450</td>\n",
       "      <td>4662000</td>\n",
       "    </tr>\n",
       "  </tbody>\n",
       "</table>\n",
       "</div>"
      ],
      "text/plain": [
       "   Taxi_dist  Market_dist  Hospital_dist  Carpet_area  Builtup_area  \\\n",
       "0     9796.0       5250.0        10703.0       1659.0        1961.0   \n",
       "1     8294.0       8186.0        12694.0       1461.0        1752.0   \n",
       "2    11001.0      14399.0        16991.0       1340.0        1609.0   \n",
       "3     8301.0      11188.0        12289.0       1451.0        1748.0   \n",
       "4    10510.0      12629.0        13921.0       1770.0        2111.0   \n",
       "\n",
       "   Parking_type City_type  Rainfall  Price_house  \n",
       "0          Open     CAT B       530      6649000  \n",
       "1  Not Provided     CAT B       210      3982000  \n",
       "2  Not Provided     CAT A       720      5401000  \n",
       "3       Covered     CAT B       620      5373000  \n",
       "4  Not Provided     CAT B       450      4662000  "
      ]
     },
     "execution_count": 203,
     "metadata": {},
     "output_type": "execute_result"
    }
   ],
   "source": [
    "# read file\n",
    "data = pd.read_csv(\"Data_regression.csv\")\n",
    "data.head()"
   ]
  },
  {
   "cell_type": "code",
   "execution_count": 204,
   "metadata": {
    "scrolled": false
   },
   "outputs": [
    {
     "data": {
      "text/plain": [
       "(932, 9)"
      ]
     },
     "execution_count": 204,
     "metadata": {},
     "output_type": "execute_result"
    }
   ],
   "source": [
    "data.shape  # get the shape"
   ]
  },
  {
   "cell_type": "code",
   "execution_count": 205,
   "metadata": {
    "scrolled": true
   },
   "outputs": [
    {
     "name": "stdout",
     "output_type": "stream",
     "text": [
      "<class 'pandas.core.frame.DataFrame'>\n",
      "RangeIndex: 932 entries, 0 to 931\n",
      "Data columns (total 9 columns):\n",
      " #   Column         Non-Null Count  Dtype  \n",
      "---  ------         --------------  -----  \n",
      " 0   Taxi_dist      919 non-null    float64\n",
      " 1   Market_dist    919 non-null    float64\n",
      " 2   Hospital_dist  931 non-null    float64\n",
      " 3   Carpet_area    924 non-null    float64\n",
      " 4   Builtup_area   917 non-null    float64\n",
      " 5   Parking_type   932 non-null    object \n",
      " 6   City_type      932 non-null    object \n",
      " 7   Rainfall       932 non-null    int64  \n",
      " 8   Price_house    932 non-null    int64  \n",
      "dtypes: float64(5), int64(2), object(2)\n",
      "memory usage: 65.7+ KB\n"
     ]
    }
   ],
   "source": [
    "data.info()  # get the info"
   ]
  },
  {
   "cell_type": "code",
   "execution_count": 206,
   "metadata": {},
   "outputs": [
    {
     "name": "stdout",
     "output_type": "stream",
     "text": [
      "<class 'pandas.core.frame.DataFrame'>\n",
      "RangeIndex: 932 entries, 0 to 931\n",
      "Data columns (total 9 columns):\n",
      " #   Column         Non-Null Count  Dtype  \n",
      "---  ------         --------------  -----  \n",
      " 0   Taxi_dist      919 non-null    float64\n",
      " 1   Market_dist    932 non-null    float64\n",
      " 2   Hospital_dist  931 non-null    float64\n",
      " 3   Carpet_area    924 non-null    float64\n",
      " 4   Builtup_area   917 non-null    float64\n",
      " 5   Parking_type   932 non-null    object \n",
      " 6   City_type      932 non-null    object \n",
      " 7   Rainfall       932 non-null    int64  \n",
      " 8   Price_house    932 non-null    int64  \n",
      "dtypes: float64(5), int64(2), object(2)\n",
      "memory usage: 65.7+ KB\n"
     ]
    }
   ],
   "source": [
    "data[\"Market_dist\"].fillna(data[\"Market_dist\"].mean(), inplace=True)   # handling missing value\n",
    "data.info()"
   ]
  },
  {
   "cell_type": "code",
   "execution_count": 207,
   "metadata": {
    "scrolled": false
   },
   "outputs": [
    {
     "data": {
      "text/html": [
       "<div>\n",
       "<style scoped>\n",
       "    .dataframe tbody tr th:only-of-type {\n",
       "        vertical-align: middle;\n",
       "    }\n",
       "\n",
       "    .dataframe tbody tr th {\n",
       "        vertical-align: top;\n",
       "    }\n",
       "\n",
       "    .dataframe thead th {\n",
       "        text-align: right;\n",
       "    }\n",
       "</style>\n",
       "<table border=\"1\" class=\"dataframe\">\n",
       "  <thead>\n",
       "    <tr style=\"text-align: right;\">\n",
       "      <th></th>\n",
       "      <th>Taxi_dist</th>\n",
       "      <th>Market_dist</th>\n",
       "      <th>Hospital_dist</th>\n",
       "      <th>Carpet_area</th>\n",
       "      <th>Builtup_area</th>\n",
       "      <th>Rainfall</th>\n",
       "      <th>Price_house</th>\n",
       "    </tr>\n",
       "  </thead>\n",
       "  <tbody>\n",
       "    <tr>\n",
       "      <th>count</th>\n",
       "      <td>919.000000</td>\n",
       "      <td>932.000000</td>\n",
       "      <td>931.000000</td>\n",
       "      <td>924.000000</td>\n",
       "      <td>917.000000</td>\n",
       "      <td>932.000000</td>\n",
       "      <td>9.320000e+02</td>\n",
       "    </tr>\n",
       "    <tr>\n",
       "      <th>mean</th>\n",
       "      <td>8229.727965</td>\n",
       "      <td>11018.752992</td>\n",
       "      <td>13072.092374</td>\n",
       "      <td>1511.862554</td>\n",
       "      <td>1794.924755</td>\n",
       "      <td>785.579399</td>\n",
       "      <td>6.084695e+06</td>\n",
       "    </tr>\n",
       "    <tr>\n",
       "      <th>std</th>\n",
       "      <td>2561.985008</td>\n",
       "      <td>2526.097159</td>\n",
       "      <td>2586.456161</td>\n",
       "      <td>790.969660</td>\n",
       "      <td>468.159457</td>\n",
       "      <td>265.546853</td>\n",
       "      <td>5.025364e+06</td>\n",
       "    </tr>\n",
       "    <tr>\n",
       "      <th>min</th>\n",
       "      <td>146.000000</td>\n",
       "      <td>1666.000000</td>\n",
       "      <td>3227.000000</td>\n",
       "      <td>775.000000</td>\n",
       "      <td>932.000000</td>\n",
       "      <td>-110.000000</td>\n",
       "      <td>3.000000e+04</td>\n",
       "    </tr>\n",
       "    <tr>\n",
       "      <th>25%</th>\n",
       "      <td>6476.000000</td>\n",
       "      <td>9371.750000</td>\n",
       "      <td>11301.500000</td>\n",
       "      <td>1318.000000</td>\n",
       "      <td>1583.000000</td>\n",
       "      <td>600.000000</td>\n",
       "      <td>4.658000e+06</td>\n",
       "    </tr>\n",
       "    <tr>\n",
       "      <th>50%</th>\n",
       "      <td>8230.000000</td>\n",
       "      <td>11112.000000</td>\n",
       "      <td>13163.000000</td>\n",
       "      <td>1480.500000</td>\n",
       "      <td>1774.000000</td>\n",
       "      <td>780.000000</td>\n",
       "      <td>5.866000e+06</td>\n",
       "    </tr>\n",
       "    <tr>\n",
       "      <th>75%</th>\n",
       "      <td>9937.000000</td>\n",
       "      <td>12653.000000</td>\n",
       "      <td>14817.000000</td>\n",
       "      <td>1655.000000</td>\n",
       "      <td>1982.000000</td>\n",
       "      <td>970.000000</td>\n",
       "      <td>7.187250e+06</td>\n",
       "    </tr>\n",
       "    <tr>\n",
       "      <th>max</th>\n",
       "      <td>20662.000000</td>\n",
       "      <td>20945.000000</td>\n",
       "      <td>23294.000000</td>\n",
       "      <td>24300.000000</td>\n",
       "      <td>12730.000000</td>\n",
       "      <td>1560.000000</td>\n",
       "      <td>1.500000e+08</td>\n",
       "    </tr>\n",
       "  </tbody>\n",
       "</table>\n",
       "</div>"
      ],
      "text/plain": [
       "          Taxi_dist   Market_dist  Hospital_dist   Carpet_area  Builtup_area  \\\n",
       "count    919.000000    932.000000     931.000000    924.000000    917.000000   \n",
       "mean    8229.727965  11018.752992   13072.092374   1511.862554   1794.924755   \n",
       "std     2561.985008   2526.097159    2586.456161    790.969660    468.159457   \n",
       "min      146.000000   1666.000000    3227.000000    775.000000    932.000000   \n",
       "25%     6476.000000   9371.750000   11301.500000   1318.000000   1583.000000   \n",
       "50%     8230.000000  11112.000000   13163.000000   1480.500000   1774.000000   \n",
       "75%     9937.000000  12653.000000   14817.000000   1655.000000   1982.000000   \n",
       "max    20662.000000  20945.000000   23294.000000  24300.000000  12730.000000   \n",
       "\n",
       "          Rainfall   Price_house  \n",
       "count   932.000000  9.320000e+02  \n",
       "mean    785.579399  6.084695e+06  \n",
       "std     265.546853  5.025364e+06  \n",
       "min    -110.000000  3.000000e+04  \n",
       "25%     600.000000  4.658000e+06  \n",
       "50%     780.000000  5.866000e+06  \n",
       "75%     970.000000  7.187250e+06  \n",
       "max    1560.000000  1.500000e+08  "
      ]
     },
     "execution_count": 207,
     "metadata": {},
     "output_type": "execute_result"
    }
   ],
   "source": [
    "data.describe()   # get basic statistics"
   ]
  },
  {
   "cell_type": "code",
   "execution_count": 263,
   "metadata": {},
   "outputs": [
    {
     "data": {
      "text/plain": [
       "dtype('float64')"
      ]
     },
     "execution_count": 263,
     "metadata": {},
     "output_type": "execute_result"
    }
   ],
   "source": [
    "X = data[\"Market_dist\"].values.reshape(-1,1)   # reshaping \n",
    "y = data[\"Price_house\"].values.reshape(-1,1)\n",
    "\n",
    "X.dtype"
   ]
  },
  {
   "cell_type": "code",
   "execution_count": 235,
   "metadata": {
    "scrolled": true
   },
   "outputs": [
    {
     "data": {
      "image/png": "[encoded data removed]",
      "text/plain": [
       "<Figure size 432x288 with 1 Axes>"
      ]
     },
     "metadata": {
      "needs_background": "light"
     },
     "output_type": "display_data"
    }
   ],
   "source": [
    "plt.scatter(X, y, color='gray')  # scatter plot\n",
    "plt.show()"
   ]
  },
  {
   "cell_type": "code",
   "execution_count": 236,
   "metadata": {},
   "outputs": [
    {
     "data": {
      "text/plain": [
       "(932, 1)"
      ]
     },
     "execution_count": 236,
     "metadata": {},
     "output_type": "execute_result"
    }
   ],
   "source": [
    "zs_md = zscore(X)               # z-score for detecting outliers\n",
    "zs_md = zs_md.reshape(-1,1)\n",
    "zs_md.shape"
   ]
  },
  {
   "cell_type": "code",
   "execution_count": 241,
   "metadata": {},
   "outputs": [
    {
     "data": {
      "text/plain": [
       "(932, 1)"
      ]
     },
     "execution_count": 241,
     "metadata": {},
     "output_type": "execute_result"
    }
   ],
   "source": [
    "zs_hp = zscore(y)              # z-score for detecting outliers\n",
    "zs_hp = zs_hp.reshape(-1,1)\n",
    "zs_hp.shape"
   ]
  },
  {
   "cell_type": "code",
   "execution_count": 242,
   "metadata": {
    "scrolled": false
   },
   "outputs": [
    {
     "data": {
      "text/html": [
       "<div>\n",
       "<style scoped>\n",
       "    .dataframe tbody tr th:only-of-type {\n",
       "        vertical-align: middle;\n",
       "    }\n",
       "\n",
       "    .dataframe tbody tr th {\n",
       "        vertical-align: top;\n",
       "    }\n",
       "\n",
       "    .dataframe thead th {\n",
       "        text-align: right;\n",
       "    }\n",
       "</style>\n",
       "<table border=\"1\" class=\"dataframe\">\n",
       "  <thead>\n",
       "    <tr style=\"text-align: right;\">\n",
       "      <th></th>\n",
       "      <th>House Price</th>\n",
       "      <th>Market Distance</th>\n",
       "      <th>Z_Score_md</th>\n",
       "      <th>Z_Score_hp</th>\n",
       "    </tr>\n",
       "  </thead>\n",
       "  <tbody>\n",
       "    <tr>\n",
       "      <th>0</th>\n",
       "      <td>6649000</td>\n",
       "      <td>5250.0</td>\n",
       "      <td>-2.284888</td>\n",
       "      <td>0.112352</td>\n",
       "    </tr>\n",
       "    <tr>\n",
       "      <th>1</th>\n",
       "      <td>3982000</td>\n",
       "      <td>8186.0</td>\n",
       "      <td>-1.121997</td>\n",
       "      <td>-0.418641</td>\n",
       "    </tr>\n",
       "    <tr>\n",
       "      <th>2</th>\n",
       "      <td>5401000</td>\n",
       "      <td>14399.0</td>\n",
       "      <td>1.338849</td>\n",
       "      <td>-0.136122</td>\n",
       "    </tr>\n",
       "    <tr>\n",
       "      <th>3</th>\n",
       "      <td>5373000</td>\n",
       "      <td>11188.0</td>\n",
       "      <td>0.067035</td>\n",
       "      <td>-0.141697</td>\n",
       "    </tr>\n",
       "    <tr>\n",
       "      <th>4</th>\n",
       "      <td>4662000</td>\n",
       "      <td>12629.0</td>\n",
       "      <td>0.637787</td>\n",
       "      <td>-0.283255</td>\n",
       "    </tr>\n",
       "    <tr>\n",
       "      <th>...</th>\n",
       "      <td>...</td>\n",
       "      <td>...</td>\n",
       "      <td>...</td>\n",
       "      <td>...</td>\n",
       "    </tr>\n",
       "    <tr>\n",
       "      <th>927</th>\n",
       "      <td>6639000</td>\n",
       "      <td>8518.0</td>\n",
       "      <td>-0.990499</td>\n",
       "      <td>0.110361</td>\n",
       "    </tr>\n",
       "    <tr>\n",
       "      <th>928</th>\n",
       "      <td>8208000</td>\n",
       "      <td>8717.0</td>\n",
       "      <td>-0.911679</td>\n",
       "      <td>0.422744</td>\n",
       "    </tr>\n",
       "    <tr>\n",
       "      <th>929</th>\n",
       "      <td>7644000</td>\n",
       "      <td>11708.0</td>\n",
       "      <td>0.272997</td>\n",
       "      <td>0.310454</td>\n",
       "    </tr>\n",
       "    <tr>\n",
       "      <th>930</th>\n",
       "      <td>9661000</td>\n",
       "      <td>14700.0</td>\n",
       "      <td>1.458069</td>\n",
       "      <td>0.712033</td>\n",
       "    </tr>\n",
       "    <tr>\n",
       "      <th>931</th>\n",
       "      <td>5434000</td>\n",
       "      <td>12537.0</td>\n",
       "      <td>0.601347</td>\n",
       "      <td>-0.129552</td>\n",
       "    </tr>\n",
       "  </tbody>\n",
       "</table>\n",
       "<p>932 rows × 4 columns</p>\n",
       "</div>"
      ],
      "text/plain": [
       "     House Price  Market Distance  Z_Score_md  Z_Score_hp\n",
       "0        6649000           5250.0   -2.284888    0.112352\n",
       "1        3982000           8186.0   -1.121997   -0.418641\n",
       "2        5401000          14399.0    1.338849   -0.136122\n",
       "3        5373000          11188.0    0.067035   -0.141697\n",
       "4        4662000          12629.0    0.637787   -0.283255\n",
       "..           ...              ...         ...         ...\n",
       "927      6639000           8518.0   -0.990499    0.110361\n",
       "928      8208000           8717.0   -0.911679    0.422744\n",
       "929      7644000          11708.0    0.272997    0.310454\n",
       "930      9661000          14700.0    1.458069    0.712033\n",
       "931      5434000          12537.0    0.601347   -0.129552\n",
       "\n",
       "[932 rows x 4 columns]"
      ]
     },
     "execution_count": 242,
     "metadata": {},
     "output_type": "execute_result"
    }
   ],
   "source": [
    "# create new DataFrame\n",
    "table = pd.DataFrame({'House Price': y.flatten(), 'Market Distance': X.flatten(), 'Z_Score_md': zs_md.flatten(), 'Z_Score_hp': zs_hp.flatten()})\n",
    "table"
   ]
  },
  {
   "cell_type": "code",
   "execution_count": 243,
   "metadata": {},
   "outputs": [
    {
     "data": {
      "text/html": [
       "<div>\n",
       "<style scoped>\n",
       "    .dataframe tbody tr th:only-of-type {\n",
       "        vertical-align: middle;\n",
       "    }\n",
       "\n",
       "    .dataframe tbody tr th {\n",
       "        vertical-align: top;\n",
       "    }\n",
       "\n",
       "    .dataframe thead th {\n",
       "        text-align: right;\n",
       "    }\n",
       "</style>\n",
       "<table border=\"1\" class=\"dataframe\">\n",
       "  <thead>\n",
       "    <tr style=\"text-align: right;\">\n",
       "      <th></th>\n",
       "      <th>House Price</th>\n",
       "      <th>Market Distance</th>\n",
       "      <th>Z_Score_md</th>\n",
       "      <th>Z_Score_hp</th>\n",
       "    </tr>\n",
       "  </thead>\n",
       "  <tbody>\n",
       "    <tr>\n",
       "      <th>360</th>\n",
       "      <td>150000000</td>\n",
       "      <td>20945.0</td>\n",
       "      <td>3.931589</td>\n",
       "      <td>28.653164</td>\n",
       "    </tr>\n",
       "    <tr>\n",
       "      <th>854</th>\n",
       "      <td>4759000</td>\n",
       "      <td>1666.0</td>\n",
       "      <td>-3.704440</td>\n",
       "      <td>-0.263942</td>\n",
       "    </tr>\n",
       "  </tbody>\n",
       "</table>\n",
       "</div>"
      ],
      "text/plain": [
       "     House Price  Market Distance  Z_Score_md  Z_Score_hp\n",
       "360    150000000          20945.0    3.931589   28.653164\n",
       "854      4759000           1666.0   -3.704440   -0.263942"
      ]
     },
     "execution_count": 243,
     "metadata": {},
     "output_type": "execute_result"
    }
   ],
   "source": [
    "# detected outliers\n",
    "table.loc[(table[\"Z_Score_md\"] > 3) | (table[\"Z_Score_md\"] < -3) | (table[\"Z_Score_hp\"] > 3) | (table[\"Z_Score_hp\"] < -3)]"
   ]
  },
  {
   "cell_type": "code",
   "execution_count": 244,
   "metadata": {},
   "outputs": [],
   "source": [
    "# drop columns which has outliers.\n",
    "table.drop((table[(table['Z_Score_md']>3) | (table['Z_Score_md']<-3) | (table['Z_Score_hp']>3) | (table['Z_Score_hp']<-3)].index), inplace=True)"
   ]
  },
  {
   "cell_type": "code",
   "execution_count": 245,
   "metadata": {
    "scrolled": false
   },
   "outputs": [
    {
     "data": {
      "text/html": [
       "<div>\n",
       "<style scoped>\n",
       "    .dataframe tbody tr th:only-of-type {\n",
       "        vertical-align: middle;\n",
       "    }\n",
       "\n",
       "    .dataframe tbody tr th {\n",
       "        vertical-align: top;\n",
       "    }\n",
       "\n",
       "    .dataframe thead th {\n",
       "        text-align: right;\n",
       "    }\n",
       "</style>\n",
       "<table border=\"1\" class=\"dataframe\">\n",
       "  <thead>\n",
       "    <tr style=\"text-align: right;\">\n",
       "      <th></th>\n",
       "      <th>House Price</th>\n",
       "      <th>Market Distance</th>\n",
       "      <th>Z_Score_md</th>\n",
       "      <th>Z_Score_hp</th>\n",
       "    </tr>\n",
       "  </thead>\n",
       "  <tbody>\n",
       "  </tbody>\n",
       "</table>\n",
       "</div>"
      ],
      "text/plain": [
       "Empty DataFrame\n",
       "Columns: [House Price, Market Distance, Z_Score_md, Z_Score_hp]\n",
       "Index: []"
      ]
     },
     "execution_count": 245,
     "metadata": {},
     "output_type": "execute_result"
    }
   ],
   "source": [
    "# again outlier detection for verification only\n",
    "table.loc[(table[\"Z_Score_md\"] > 3) | (table[\"Z_Score_md\"] < -3) | (table[\"Z_Score_hp\"] > 3) | (table[\"Z_Score_hp\"] < -3)]"
   ]
  },
  {
   "cell_type": "code",
   "execution_count": 249,
   "metadata": {},
   "outputs": [
    {
     "data": {
      "text/plain": [
       "(930, 1)"
      ]
     },
     "execution_count": 249,
     "metadata": {},
     "output_type": "execute_result"
    }
   ],
   "source": [
    "X1 = table['Market Distance'].values.reshape(-1,1)\n",
    "y1 = table['House Price'].values.reshape(-1,1)\n",
    "X1.shape"
   ]
  },
  {
   "cell_type": "code",
   "execution_count": 250,
   "metadata": {},
   "outputs": [
    {
     "data": {
      "image/png": "[encoded data removed]",
      "text/plain": [
       "<Figure size 432x288 with 1 Axes>"
      ]
     },
     "metadata": {
      "needs_background": "light"
     },
     "output_type": "display_data"
    }
   ],
   "source": [
    "plt.scatter(X1, y1, color='gray')\n",
    "plt.show()"
   ]
  },
  {
   "cell_type": "code",
   "execution_count": 252,
   "metadata": {
    "scrolled": false
   },
   "outputs": [
    {
     "data": {
      "image/png": "[encoded data removed]",
      "text/plain": [
       "<Figure size 432x288 with 1 Axes>"
      ]
     },
     "metadata": {
      "needs_background": "light"
     },
     "output_type": "display_data"
    }
   ],
   "source": [
    "table.plot(x=\"Market Distance\", y=\"House Price\", style=\"--\")\n",
    "plt.title(\"Market Distance vs House Price\")\n",
    "plt.xlabel(\"Market Distance\")\n",
    "plt.ylabel(\"Price_Price\")\n",
    "plt.show()"
   ]
  },
  {
   "cell_type": "code",
   "execution_count": 253,
   "metadata": {},
   "outputs": [],
   "source": [
    "# train, test split\n",
    "X_train, X_test, y_train, y_test = train_test_split(X1, y1, test_size=0.2, random_state=41)"
   ]
  },
  {
   "cell_type": "code",
   "execution_count": 254,
   "metadata": {},
   "outputs": [
    {
     "data": {
      "text/plain": [
       "LinearRegression(copy_X=True, fit_intercept=True, n_jobs=None, normalize=False)"
      ]
     },
     "execution_count": 254,
     "metadata": {},
     "output_type": "execute_result"
    }
   ],
   "source": [
    "regression = LinearRegression()\n",
    "regression.fit(X_train, y_train)  # training the model"
   ]
  },
  {
   "cell_type": "code",
   "execution_count": 255,
   "metadata": {},
   "outputs": [
    {
     "name": "stdout",
     "output_type": "stream",
     "text": [
      "[4970055.64541108]\n",
      "[[84.44514718]]\n"
     ]
    }
   ],
   "source": [
    "#print intercept\n",
    "print(regression.intercept_)\n",
    "\n",
    "#print slope\n",
    "print(regression.coef_)"
   ]
  },
  {
   "cell_type": "code",
   "execution_count": 256,
   "metadata": {},
   "outputs": [],
   "source": [
    "y_pred = regression.predict(X_test)"
   ]
  },
  {
   "cell_type": "code",
   "execution_count": 257,
   "metadata": {
    "scrolled": true
   },
   "outputs": [
    {
     "data": {
      "text/html": [
       "<div>\n",
       "<style scoped>\n",
       "    .dataframe tbody tr th:only-of-type {\n",
       "        vertical-align: middle;\n",
       "    }\n",
       "\n",
       "    .dataframe tbody tr th {\n",
       "        vertical-align: top;\n",
       "    }\n",
       "\n",
       "    .dataframe thead th {\n",
       "        text-align: right;\n",
       "    }\n",
       "</style>\n",
       "<table border=\"1\" class=\"dataframe\">\n",
       "  <thead>\n",
       "    <tr style=\"text-align: right;\">\n",
       "      <th></th>\n",
       "      <th>Actual Data</th>\n",
       "      <th>Predicted Data</th>\n",
       "    </tr>\n",
       "  </thead>\n",
       "  <tbody>\n",
       "    <tr>\n",
       "      <th>0</th>\n",
       "      <td>5517000</td>\n",
       "      <td>6.414152e+06</td>\n",
       "    </tr>\n",
       "    <tr>\n",
       "      <th>1</th>\n",
       "      <td>6603000</td>\n",
       "      <td>5.728795e+06</td>\n",
       "    </tr>\n",
       "    <tr>\n",
       "      <th>2</th>\n",
       "      <td>8037000</td>\n",
       "      <td>5.851325e+06</td>\n",
       "    </tr>\n",
       "    <tr>\n",
       "      <th>3</th>\n",
       "      <td>6649000</td>\n",
       "      <td>5.413393e+06</td>\n",
       "    </tr>\n",
       "    <tr>\n",
       "      <th>4</th>\n",
       "      <td>7895000</td>\n",
       "      <td>5.995389e+06</td>\n",
       "    </tr>\n",
       "    <tr>\n",
       "      <th>...</th>\n",
       "      <td>...</td>\n",
       "      <td>...</td>\n",
       "    </tr>\n",
       "    <tr>\n",
       "      <th>181</th>\n",
       "      <td>7688000</td>\n",
       "      <td>5.900536e+06</td>\n",
       "    </tr>\n",
       "    <tr>\n",
       "      <th>182</th>\n",
       "      <td>3616000</td>\n",
       "      <td>5.905032e+06</td>\n",
       "    </tr>\n",
       "    <tr>\n",
       "      <th>183</th>\n",
       "      <td>7624000</td>\n",
       "      <td>6.184968e+06</td>\n",
       "    </tr>\n",
       "    <tr>\n",
       "      <th>184</th>\n",
       "      <td>6205000</td>\n",
       "      <td>5.835112e+06</td>\n",
       "    </tr>\n",
       "    <tr>\n",
       "      <th>185</th>\n",
       "      <td>5665000</td>\n",
       "      <td>5.711991e+06</td>\n",
       "    </tr>\n",
       "  </tbody>\n",
       "</table>\n",
       "<p>186 rows × 2 columns</p>\n",
       "</div>"
      ],
      "text/plain": [
       "     Actual Data  Predicted Data\n",
       "0        5517000    6.414152e+06\n",
       "1        6603000    5.728795e+06\n",
       "2        8037000    5.851325e+06\n",
       "3        6649000    5.413393e+06\n",
       "4        7895000    5.995389e+06\n",
       "..           ...             ...\n",
       "181      7688000    5.900536e+06\n",
       "182      3616000    5.905032e+06\n",
       "183      7624000    6.184968e+06\n",
       "184      6205000    5.835112e+06\n",
       "185      5665000    5.711991e+06\n",
       "\n",
       "[186 rows x 2 columns]"
      ]
     },
     "execution_count": 257,
     "metadata": {},
     "output_type": "execute_result"
    }
   ],
   "source": [
    "# comparison between predicted data & actual data.\n",
    "\n",
    "df = pd.DataFrame({'Actual Data': y_test.flatten(), 'Predicted Data': y_pred.flatten()})\n",
    "df"
   ]
  },
  {
   "cell_type": "code",
   "execution_count": 258,
   "metadata": {
    "scrolled": false
   },
   "outputs": [
    {
     "data": {
      "image/png": "[encoded data removed]",
      "text/plain": [
       "<Figure size 432x288 with 1 Axes>"
      ]
     },
     "metadata": {
      "needs_background": "light"
     },
     "output_type": "display_data"
    }
   ],
   "source": [
    "# plot straight line with the test data.\n",
    "\n",
    "plt.scatter(X_test, y_test, color=\"gray\")\n",
    "plt.plot(X_test, y_pred, color=\"red\", linewidth=2)\n",
    "plt.show()"
   ]
  },
  {
   "cell_type": "code",
   "execution_count": 259,
   "metadata": {},
   "outputs": [
    {
     "name": "stdout",
     "output_type": "stream",
     "text": [
      "Mean Absolute Error: 1346653.4494788605\n",
      "Mean Squared Error: 2614186512987.9253\n",
      "Root Mean Squared Error: 1160.4539842143076\n"
     ]
    }
   ],
   "source": [
    "# get different metrics from y_test and y_pred\n",
    "\n",
    "print(\"Mean Absolute Error:\", metrics.mean_absolute_error(y_test, y_pred))\n",
    "print(\"Mean Squared Error:\", metrics.mean_squared_error(y_test, y_pred))\n",
    "print(\"Root Mean Squared Error:\", np.sqrt(metrics.mean_absolute_error(y_test, y_pred)))"
   ]
  }
 ],
 "metadata": {
  "kernelspec": {
   "display_name": "Python 3",
   "language": "python",
   "name": "python3"
  },
  "language_info": {
   "codemirror_mode": {
    "name": "ipython",
    "version": 3
   },
   "file_extension": ".py",
   "mimetype": "text/x-python",
   "name": "python",
   "nbconvert_exporter": "python",
   "pygments_lexer": "ipython3",
   "version": "3.7.6"
  }
 },
 "nbformat": 4,
 "nbformat_minor": 4
}
